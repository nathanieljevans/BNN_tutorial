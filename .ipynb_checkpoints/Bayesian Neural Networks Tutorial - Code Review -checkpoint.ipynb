{
 "cells": [
  {
   "cell_type": "markdown",
   "metadata": {},
   "source": [
    "# Bayesian Neural Networks \n",
    "\n",
    "This script explores using pytorch and pyro to build, train and test a bayesian neural network. The advantage and novelty of this model is that inference is done probablistically; thereby allowing us to quantify the certainty of model results. Kind of like a built in sensitivity  analysis. \n",
    "\n",
    "I like the way [this](https://towardsdatascience.com/making-your-neural-network-say-i-dont-know-bayesian-nns-using-pyro-and-pytorch-b1c24e6ab8cd) [3] tutorial phrases it:  \n",
    "\n",
    "> Making Your Neural Network Say “I Don’t Know”\n",
    "\n",
    "In this tutorial, we'll go over \n",
    "- key differences of `Bayesian Neural Networks (BNN)` vs `Neural Networks (NN)` \n",
    "- how BNNs do inference & training \n",
    "- simple tutorial on how to build a BNN using `pytorch` and `pyro` \n",
    "- difference in training and prediction time complexity "
   ]
  },
  {
   "cell_type": "markdown",
   "metadata": {},
   "source": [
    "# BNNs vs NNs \n",
    "\n",
    "## Classic Neural Network \n",
    "\n",
    "\n",
    "## Bayesian Neural Network \n",
    "\n",
    "![image.png](https://www.researchgate.net/profile/Florian_Haese/publication/329843608/figure/fig2/AS:713727343067138@1547177267367/llustration-of-a-Bayesian-Neural-Network-BNN-A-A-Bayesian-neuron-defines-a_W640.jpg)\n",
    "Taken from [1]. \n",
    "\n",
    "\n",
    "# BNN advantage\n",
    "\n",
    "\n",
    "## What happens when you give cutting edge neural network an image of noise? \n",
    "\n",
    "![image.png](https://miro.medium.com/max/802/0*HG51qQU8I34_fUgB.jpg)\n",
    "\n",
    "--- \n",
    "\n",
    "The most obvious advantage of these BNNs are that they allow the model to propogate it's uncertainty about a prediction, from [this]( https://krasserm.github.io/2019/03/14/bayesian-neural-networks/) tutorial, there is a great plot that shows this.\n",
    "\n",
    "![image.png](https://krasserm.github.io/img/2019-03-14/output_9_1.png)\n",
    "\n",
    "From this we can see that the BNN knows where in it's feature space it has accurate predictions, and where it does not. I've been thinking about this as a built in sensitivity analysis. With a few extra lines of code, we can have the model say, \"Hey, I don't know what the answer is, don't trust me\", which is a key feature when making important decisions. \n",
    "\n",
    "Other advantages include being able to include priors on our weight distributions (could be tough to know how to do this well). Also priors on our X distributions, which could be as simple as calculating p(x) over each mini-batch of the training set and using this as the prior on test sets. \n",
    "\n",
    "# Training a BNN \n",
    "\n",
    "## Variation Inference \n",
    "\n",
    "\n",
    "## Sampling \n",
    "\n",
    "\n",
    "# Prediction "
   ]
  },
  {
   "cell_type": "code",
   "execution_count": 1,
   "metadata": {},
   "outputs": [],
   "source": [
    "import torch\n",
    "import torch.nn.functional as nnf\n",
    "from torch.utils.data import random_split\n",
    "from torch.utils.data.dataloader import DataLoader\n",
    "from torch.optim import SGD\n",
    "from torch.distributions import constraints\n",
    "import torchvision as torchv\n",
    "import torchvision.transforms as torchvt\n",
    "from torchvision.datasets.mnist import MNIST\n",
    "from torch import nn\n",
    "from pyro.infer import SVI, TraceMeanField_ELBO\n",
    "import pyro\n",
    "from pyro import poutine\n",
    "import pyro.optim as pyroopt\n",
    "import pyro.distributions as dist\n",
    "import pyro.contrib.bnn as bnn\n",
    "import matplotlib.pyplot as plt\n",
    "import seaborn as sns\n",
    "from torch.distributions.utils import lazy_property\n",
    "import math\n",
    "from torch.utils import data\n",
    "from sklearn.datasets import load_iris\n",
    "from matplotlib import pyplot as plt\n",
    "import numpy as np"
   ]
  },
  {
   "cell_type": "markdown",
   "metadata": {},
   "source": [
    "# Model Global Variables "
   ]
  },
  {
   "cell_type": "code",
   "execution_count": 2,
   "metadata": {},
   "outputs": [],
   "source": [
    "LEARNING_WEIGHT = 1e-3\n",
    "EPOCHS = 150\n",
    "DECAY_MILESTONES = range(100, EPOCHS, 10)\n",
    "GAMMA=0.1\n",
    "DROP_OUT_PROP = 0.1\n",
    "LAYER_SIZE= 50"
   ]
  },
  {
   "cell_type": "markdown",
   "metadata": {},
   "source": [
    "# Load our data in \n",
    "\n",
    "We'll use the classic `Iris` Dataset.\n",
    "\n",
    "number of features: 4 \n",
    "number of observations: 150\n",
    "number of classes: 3 \n",
    "\n",
    "We'll save each observation separately to disk as a tensor object (.pt), so that we can build an efficient DataLoader (for learning purposes, since our volume doesn't actually make this necessary) \n",
    "\n",
    "Also, since we're just exploring the difference between these two models, we'll only split to train/test 2:1 ratio. "
   ]
  },
  {
   "cell_type": "code",
   "execution_count": 3,
   "metadata": {},
   "outputs": [
    {
     "name": "stdout",
     "output_type": "stream",
     "text": [
      "Number of classes: 3\n"
     ]
    }
   ],
   "source": [
    "X,Y = load_iris(return_X_y=True)\n",
    "\n",
    "# shuffle our data to avoid class bias \n",
    "sel = np.arange(len(Y))\n",
    "np.random.shuffle(sel)\n",
    "X = X[sel]\n",
    "Y = Y[sel]\n",
    "\n",
    "for i,x in enumerate(X):\n",
    "    torch.save(torch.tensor(x).float(), './data/%d.pt' %i)\n",
    "\n",
    "n_classes=len(set(Y))\n",
    "print(f'Number of classes: {n_classes}')\n",
    "\n",
    "partition = {'train':[str(x) for x in range(0,100)],\n",
    "             'test':[str(x) for x in range(100,150)]}\n",
    "\n",
    "labels = {str(i):torch.tensor(j).to(torch.int64) for i,j in zip(range(150), Y)}"
   ]
  },
  {
   "cell_type": "markdown",
   "metadata": {},
   "source": [
    "# Dataset Class: first part of our DataLoader \n",
    "\n",
    "We have to define a dataset class, which is where we can tell the dataloader where to look for each observation (key -> path) "
   ]
  },
  {
   "cell_type": "code",
   "execution_count": 4,
   "metadata": {},
   "outputs": [],
   "source": [
    "class Dataset(data.Dataset):\n",
    "  'Characterizes a dataset for PyTorch'\n",
    "  def __init__(self, list_IDs, labels):\n",
    "        'Initialization'\n",
    "        self.labels = labels\n",
    "        self.list_IDs = list_IDs\n",
    "\n",
    "  def __len__(self):\n",
    "        'Denotes the total number of samples'\n",
    "        return len(self.list_IDs)\n",
    "\n",
    "  def __getitem__(self, index):\n",
    "        'Generates one sample of data, load from disk'\n",
    "        ID = self.list_IDs[index]\n",
    "        X = torch.load('data/' + ID + '.pt')\n",
    "        y = self.labels[ID]\n",
    "        return X, y"
   ]
  },
  {
   "cell_type": "markdown",
   "metadata": {},
   "source": [
    "# Housekeeping \n",
    "\n",
    "choose the device to train on, we'll do it locally on a single thread. "
   ]
  },
  {
   "cell_type": "code",
   "execution_count": 5,
   "metadata": {},
   "outputs": [],
   "source": [
    "# CUDA for PyTorch\n",
    "device = torch.device('cpu')\n",
    "\n",
    "def get_lr(optimizer):\n",
    "    for param_group in optimizer.param_groups:\n",
    "        return param_group['lr']"
   ]
  },
  {
   "cell_type": "markdown",
   "metadata": {},
   "source": [
    "# Initialize our DataLoaders \n",
    "\n",
    "We'll use our whole training dataset as the batch, since we have so little data anyway. No need to optimize here. "
   ]
  },
  {
   "cell_type": "code",
   "execution_count": 6,
   "metadata": {},
   "outputs": [],
   "source": [
    "# CUDA for PyTorch\n",
    "device = torch.device('cpu')\n",
    "\n",
    "# Parameters\n",
    "train_params = {'batch_size': 100,\n",
    "          'shuffle': True,\n",
    "          'num_workers': 0}\n",
    "\n",
    "# Generators\n",
    "training_set = Dataset(partition['train'], labels)\n",
    "train_loader = data.DataLoader(training_set, **train_params)\n",
    "\n",
    "# Parameters\n",
    "test_params = {'batch_size': 50,\n",
    "          'shuffle': False,\n",
    "          'num_workers': 0}\n",
    "\n",
    "test_set = Dataset(partition['test'], labels)\n",
    "test_loader = data.DataLoader(test_set, **test_params)"
   ]
  },
  {
   "cell_type": "markdown",
   "metadata": {},
   "source": [
    "# Define our classic neural network \n",
    "\n",
    "![](https://media.wired.com/photos/592676bf7034dc5f91beb823/16:9/w_1600,c_limit/1957_Jaguar_XKSS_0043_BH-FINAL.jpg)"
   ]
  },
  {
   "cell_type": "code",
   "execution_count": 7,
   "metadata": {},
   "outputs": [],
   "source": [
    "class Common_FCN(nn.Module):\n",
    "    def __init__(self, n_classes=n_classes):\n",
    "        super(Common_FCN, self).__init__()\n",
    "        self.fc = nn.Sequential(#nn.BatchNorm1d(num_features=4),\n",
    "                                #nn.Dropout(p=DROP_OUT_PROP),\n",
    "                                nn.Linear(4, LAYER_SIZE),\n",
    "                                #nn.BatchNorm1d(num_features=LAYER_SIZE),\n",
    "                                #nn.Dropout(p=DROP_OUT_PROP),\n",
    "                                nn.ReLU(),\n",
    "                                #nn.Dropout(p=DROP_OUT_PROP),\n",
    "                                nn.Linear(LAYER_SIZE, LAYER_SIZE),\n",
    "                                nn.ReLU(),\n",
    "                                nn.Linear(LAYER_SIZE, n_classes),\n",
    "                                nn.Softmax(dim=-1))\n",
    "\n",
    "    def forward(self, inp):\n",
    "        return self.fc(inp)"
   ]
  },
  {
   "cell_type": "markdown",
   "metadata": {},
   "source": [
    "# Define our Bayesian Neural Network \n",
    "\n"
   ]
  },
  {
   "cell_type": "code",
   "execution_count": null,
   "metadata": {},
   "outputs": [],
   "source": []
  },
  {
   "cell_type": "markdown",
   "metadata": {},
   "source": [
    "# Initialize our model, gradient descent alg, learning rate decay"
   ]
  },
  {
   "cell_type": "code",
   "execution_count": 8,
   "metadata": {},
   "outputs": [],
   "source": [
    "FC_NN = Common_FCN()\n",
    "\n",
    "optim = torch.optim.AdamW(FC_NN.parameters(recurse=True), lr=LEARNING_WEIGHT, weight_decay=0.01, amsgrad=True)#SGD(FC_NN.parameters(recurse=True), lr=0.1, momentum=0.95)\n",
    "\n",
    "scheduler = torch.optim.lr_scheduler.MultiStepLR(optim, milestones=DECAY_MILESTONES, gamma=GAMMA)"
   ]
  },
  {
   "cell_type": "markdown",
   "metadata": {},
   "source": [
    "# Initialize our model and perform the training loop "
   ]
  },
  {
   "cell_type": "code",
   "execution_count": 9,
   "metadata": {},
   "outputs": [
    {
     "name": "stdout",
     "output_type": "stream",
     "text": [
      "epoch: 150 | learning rate: 0.000000 | train loss: 0.194 | train acc: 90.00000\r"
     ]
    }
   ],
   "source": [
    "if __name__ == '__main__': # need to wrap our training function in this \n",
    "    \n",
    "    training_state = {'train_acc':[], 'test_acc':[]}\n",
    "\n",
    "    for i in range(EPOCHS):\n",
    "        total_loss = 0.0\n",
    "        total = 0.0\n",
    "        correct = 0.0\n",
    "        for x, y in train_loader:\n",
    "            FC_NN.zero_grad()\n",
    "            pred = FC_NN.forward(x)\n",
    "            loss = nnf.binary_cross_entropy(pred, nnf.one_hot(y, torch.tensor(n_classes)).float())\n",
    "            total_loss += loss\n",
    "            total += y.size(0)\n",
    "            correct += (pred.argmax(-1) == y).sum().item()\n",
    "            loss.backward()\n",
    "            tracc = correct/total*100\n",
    "            optim.step()\n",
    "        scheduler.step()\n",
    "\n",
    "        FC_NN.eval() # set eval mode - w/o dropout\n",
    "        total = 0.0\n",
    "        correct = 0.0\n",
    "        for x, y in test_loader:\n",
    "            pred = FC_NN.forward(x)\n",
    "            total += y.size(0)\n",
    "            correct += (pred.argmax(-1) == y).sum().item()\n",
    "            teacc = correct/total*100\n",
    "        FC_NN.train() # reset to training mode - w/ dropout\n",
    "        training_state['train_acc'].append(tracc)\n",
    "        training_state['test_acc'].append(teacc)\n",
    "        print('epoch: %d | learning rate: %f | train loss: %.3f | train acc: %.5f' %((i+1), get_lr(optim), total_loss, tracc), end='\\r')"
   ]
  },
  {
   "cell_type": "code",
   "execution_count": null,
   "metadata": {},
   "outputs": [],
   "source": []
  },
  {
   "cell_type": "code",
   "execution_count": 10,
   "metadata": {},
   "outputs": [
    {
     "data": {
      "image/png": "[encoded data removed]",
      "text/plain": [
       "<Figure size 432x288 with 1 Axes>"
      ]
     },
     "metadata": {},
     "output_type": "display_data"
    }
   ],
   "source": [
    "    plt.figure()\n",
    "    plt.plot(training_state['train_acc'], 'r-', label='train acc')\n",
    "    plt.plot(training_state['test_acc'], 'b-', label='val acc')\n",
    "    plt.legend()\n",
    "    plt.show()"
   ]
  },
  {
   "cell_type": "markdown",
   "metadata": {},
   "source": [
    "# References \n",
    "\n",
    "1.How machine learning can assist the interpretation of ab initio molecular dynamics simulations and conceptual understanding of chemistry. ResearchGate https://www.researchgate.net/publication/329843608_How_machine_learning_can_assist_the_interpretation_of_ab_initio_molecular_dynamics_simulations_and_conceptual_understanding_of_chemistry/figures?lo=1.\n",
    "\n",
    "2.Variational inference for Bayesian neural networks - Martin Krasser’s Blog. https://krasserm.github.io/2019/03/14/bayesian-neural-networks/.\n",
    "\n",
    "3.Chopra, P. Making Your Neural Network Say “I Don’t Know” — Bayesian NNs using Pyro and PyTorch. Medium https://towardsdatascience.com/making-your-neural-network-say-i-dont-know-bayesian-nns-using-pyro-and-pytorch-b1c24e6ab8cd (2019).\n",
    "\n"
   ]
  },
  {
   "cell_type": "code",
   "execution_count": null,
   "metadata": {},
   "outputs": [],
   "source": []
  }
 ],
 "metadata": {
  "kernelspec": {
   "display_name": "Python 3",
   "language": "python",
   "name": "python3"
  },
  "language_info": {
   "codemirror_mode": {
    "name": "ipython",
    "version": 3
   },
   "file_extension": ".py",
   "mimetype": "text/x-python",
   "name": "python",
   "nbconvert_exporter": "python",
   "pygments_lexer": "ipython3",
   "version": "3.6.5"
  }
 },
 "nbformat": 4,
 "nbformat_minor": 2
}
